{
 "cells": [
  {
   "cell_type": "code",
   "execution_count": null,
   "id": "da405d34",
   "metadata": {},
   "outputs": [],
   "source": [
    "from transformers import AutoTokenizer\n",
    "from datasets import load_dataset, Dataset, DatasetDict\n",
    "from train_config import TrainConfig"
   ]
  },
  {
   "cell_type": "code",
   "execution_count": null,
   "id": "77848487",
   "metadata": {},
   "outputs": [],
   "source": [
    "config = TrainConfig()\n",
    "config.checkpoint"
   ]
  },
  {
   "cell_type": "code",
   "execution_count": null,
   "id": "3fac7d4b",
   "metadata": {},
   "outputs": [],
   "source": [
    "tokenizer = AutoTokenizer.from_pretrained(config.checkpoint)"
   ]
  },
  {
   "cell_type": "code",
   "execution_count": null,
   "id": "7297c98a",
   "metadata": {},
   "outputs": [],
   "source": [
    "ds = load_dataset('./datasets/MATH/train/algebra')\n",
    "ds"
   ]
  },
  {
   "cell_type": "code",
   "execution_count": null,
   "id": "7a882999",
   "metadata": {},
   "outputs": [],
   "source": [
    "ds['train']['problem'][0]"
   ]
  },
  {
   "cell_type": "code",
   "execution_count": null,
   "id": "be21d861",
   "metadata": {},
   "outputs": [],
   "source": [
    "ds['train']['level'][0], ds['train']['type'][0]"
   ]
  },
  {
   "cell_type": "code",
   "execution_count": null,
   "id": "6f7aada6",
   "metadata": {},
   "outputs": [],
   "source": [
    "ds['train']['solution'][0]"
   ]
  },
  {
   "cell_type": "code",
   "execution_count": 4,
   "id": "548f91b2",
   "metadata": {},
   "outputs": [
    {
     "data": {
      "text/plain": [
       "Dataset({\n",
       "    features: ['problem', 'pred'],\n",
       "    num_rows: 3000\n",
       "})"
      ]
     },
     "execution_count": 4,
     "metadata": {},
     "output_type": "execute_result"
    }
   ],
   "source": [
    "ds = Dataset.load_from_disk('./datasets/gen-answer-OpenMathReasoning')\n",
    "ds"
   ]
  },
  {
   "cell_type": "code",
   "execution_count": null,
   "id": "88cd8e3a",
   "metadata": {},
   "outputs": [],
   "source": []
  }
 ],
 "metadata": {
  "kernelspec": {
   "display_name": "Python 3",
   "language": "python",
   "name": "python3"
  },
  "language_info": {
   "codemirror_mode": {
    "name": "ipython",
    "version": 3
   },
   "file_extension": ".py",
   "mimetype": "text/x-python",
   "name": "python",
   "nbconvert_exporter": "python",
   "pygments_lexer": "ipython3",
   "version": "3.10.12"
  }
 },
 "nbformat": 4,
 "nbformat_minor": 5
}
